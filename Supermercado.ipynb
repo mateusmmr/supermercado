{
 "cells": [
  {
   "cell_type": "code",
   "execution_count": 55,
   "metadata": {},
   "outputs": [],
   "source": [
    "precos = { \"rebouças\": {\"feijão\":3.4, \"arroz\":2.8,\"carne\":20.9,\"farinha\":4.2},\n",
    "           \"cidade\": {\"feijão\":3.2, \"arroz\":3.6,\"carne\":16.8,\"farinha\":3.7},   \n",
    "           \"queiroz\":{\"feijão\":3.8, \"arroz\":3.83,\"carne\":23.8,\"farinha\":2.3},\n",
    "         \n",
    "}\n",
    "\n",
    "lista = {\"feijão\":8, \"arroz\":15,\"carne\":9,\"farinha\":20}\n",
    "dist  = {\"rebouças\": 2, \"queiroz\": 6, \"cidade\": 7}\n",
    "custo_deslocamento = 2.8\n"
   ]
  },
  {
   "cell_type": "markdown",
   "metadata": {},
   "source": [
    " # 01.Qual o custo de deslocamento para cada supermercado?"
   ]
  },
  {
   "cell_type": "code",
   "execution_count": 56,
   "metadata": {
    "scrolled": true
   },
   "outputs": [
    {
     "name": "stdout",
     "output_type": "stream",
     "text": [
      "{'rebouças': 11.2, 'queiroz': 33.599999999999994, 'cidade': 39.199999999999996}\n"
     ]
    }
   ],
   "source": [
    "valor_transporte = {}\n",
    "\n",
    "for s in dist:\n",
    "    \n",
    "    valor_transporte[s] = 2* dist[s] * custo_deslocamento\n",
    "print(valor_transporte)    \n",
    "\n"
   ]
  },
  {
   "cell_type": "markdown",
   "metadata": {},
   "source": [
    "# 02.Quanto custa comprar a quantidade indicada na lista em cada supermercado?"
   ]
  },
  {
   "cell_type": "code",
   "execution_count": 57,
   "metadata": {},
   "outputs": [],
   "source": [
    "valor_compras = {}\n",
    "\n",
    "for s in precos:\n",
    "    valor_compras[s] = {}\n",
    "    for i in lista:\n",
    "        valor_item = lista[i] * precos[s][i]\n",
    "        #valor_compras[s].update({i:valor_item})\n",
    "        valor_compras[s][i] = valor_item"
   ]
  },
  {
   "cell_type": "code",
   "execution_count": 58,
   "metadata": {},
   "outputs": [
    {
     "name": "stdout",
     "output_type": "stream",
     "text": [
      "{'rebouças': {'feijão': 27.2, 'arroz': 42.0, 'carne': 188.1, 'farinha': 84.0}, 'cidade': {'feijão': 25.6, 'arroz': 54.0, 'carne': 151.20000000000002, 'farinha': 74.0}, 'queiroz': {'feijão': 30.4, 'arroz': 57.45, 'carne': 214.20000000000002, 'farinha': 46.0}}\n"
     ]
    }
   ],
   "source": [
    "print(valor_compras)"
   ]
  },
  {
   "cell_type": "markdown",
   "metadata": {},
   "source": [
    "# 03.Quanto custa o valor da feira em cada supermercado?"
   ]
  },
  {
   "cell_type": "code",
   "execution_count": 61,
   "metadata": {},
   "outputs": [],
   "source": [
    "valor_feira = {}\n",
    "\n",
    "for s in valor_compras:\n",
    "    soma = 0\n",
    "    for i in valor_compras[s]:\n",
    "        soma = valor_compras[s][i] + soma\n",
    "    valor_feira[s] = soma    "
   ]
  },
  {
   "cell_type": "code",
   "execution_count": 62,
   "metadata": {},
   "outputs": [
    {
     "name": "stdout",
     "output_type": "stream",
     "text": [
      "{'rebouças': 341.3, 'cidade': 304.8, 'queiroz': 348.05}\n"
     ]
    }
   ],
   "source": [
    "print(valor_feira)"
   ]
  },
  {
   "cell_type": "code",
   "execution_count": 63,
   "metadata": {},
   "outputs": [
    {
     "name": "stdout",
     "output_type": "stream",
     "text": [
      "{'rebouças': 11.2, 'queiroz': 33.599999999999994, 'cidade': 39.199999999999996}\n"
     ]
    }
   ],
   "source": [
    "print(valor_transporte)"
   ]
  },
  {
   "cell_type": "markdown",
   "metadata": {},
   "source": [
    "# 04. Quanto custa fazer a feira em cada supermercado?"
   ]
  },
  {
   "cell_type": "code",
   "execution_count": 66,
   "metadata": {},
   "outputs": [],
   "source": [
    "valor_total = {}\n",
    "for s in valor_feira:\n",
    "    valor_total[s] = valor_feira[s] + valor_transporte[s]"
   ]
  },
  {
   "cell_type": "code",
   "execution_count": 67,
   "metadata": {},
   "outputs": [
    {
     "name": "stdout",
     "output_type": "stream",
     "text": [
      "{'rebouças': 352.5, 'cidade': 344.0, 'queiroz': 381.65}\n"
     ]
    }
   ],
   "source": [
    "print (valor_total)"
   ]
  },
  {
   "cell_type": "code",
   "execution_count": null,
   "metadata": {},
   "outputs": [],
   "source": []
  }
 ],
 "metadata": {
  "kernelspec": {
   "display_name": "Python 3",
   "language": "python",
   "name": "python3"
  },
  "language_info": {
   "codemirror_mode": {
    "name": "ipython",
    "version": 3
   },
   "file_extension": ".py",
   "mimetype": "text/x-python",
   "name": "python",
   "nbconvert_exporter": "python",
   "pygments_lexer": "ipython3",
   "version": "3.6.5"
  }
 },
 "nbformat": 4,
 "nbformat_minor": 2
}
